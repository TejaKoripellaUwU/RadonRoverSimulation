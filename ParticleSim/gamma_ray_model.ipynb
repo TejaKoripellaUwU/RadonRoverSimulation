{
 "cells": [
  {
   "cell_type": "code",
   "execution_count": 24,
   "metadata": {},
   "outputs": [],
   "source": [
    "import numpy as np\n",
    "import matplotlib.pyplot as plt\n",
    "import openmc\n",
    "import openmc.data\n",
    "import openmc.deplete\n",
    "import openmc.mgxs\n",
    "from scipy.constants import Avogadro\n",
    "import radioactivedecay as rd\n",
    "import Constants\n"
   ]
  },
  {
   "cell_type": "code",
   "execution_count": 25,
   "metadata": {},
   "outputs": [
    {
     "ename": "FileNotFoundError",
     "evalue": "[Errno 2] No such file or directory: '/root/endfb-vii.1-hdf5/cross_sections.xml'",
     "output_type": "error",
     "traceback": [
      "\u001b[0;31m---------------------------------------------------------------------------\u001b[0m",
      "\u001b[0;31mFileNotFoundError\u001b[0m                         Traceback (most recent call last)",
      "\u001b[1;32m/root/ProjectFiles/ParticleSim/gamma_ray_model.ipynb Cell 2\u001b[0m line \u001b[0;36m2\n\u001b[1;32m      <a href='vscode-notebook-cell://attached-container%2B7b22636f6e7461696e65724e616d65223a222f6d795f6f70656e6d63227d/root/ProjectFiles/ParticleSim/gamma_ray_model.ipynb#W1sdnNjb2RlLXJlbW90ZQ%3D%3D?line=0'>1</a>\u001b[0m gas \u001b[39m=\u001b[39m openmc\u001b[39m.\u001b[39mMaterial(name\u001b[39m=\u001b[39m\u001b[39m\"\u001b[39m\u001b[39mGas\u001b[39m\u001b[39m\"\u001b[39m)\n\u001b[0;32m----> <a href='vscode-notebook-cell://attached-container%2B7b22636f6e7461696e65724e616d65223a222f6d795f6f70656e6d63227d/root/ProjectFiles/ParticleSim/gamma_ray_model.ipynb#W1sdnNjb2RlLXJlbW90ZQ%3D%3D?line=1'>2</a>\u001b[0m gas\u001b[39m.\u001b[39;49madd_element(\u001b[39m\"\u001b[39;49m\u001b[39mArgon\u001b[39;49m\u001b[39m\"\u001b[39;49m, \u001b[39m1\u001b[39;49m)\n\u001b[1;32m      <a href='vscode-notebook-cell://attached-container%2B7b22636f6e7461696e65724e616d65223a222f6d795f6f70656e6d63227d/root/ProjectFiles/ParticleSim/gamma_ray_model.ipynb#W1sdnNjb2RlLXJlbW90ZQ%3D%3D?line=2'>3</a>\u001b[0m gas\u001b[39m.\u001b[39mset_density(\u001b[39m\"\u001b[39m\u001b[39mg/cm3\u001b[39m\u001b[39m\"\u001b[39m, \u001b[39m1\u001b[39m)\n\u001b[1;32m      <a href='vscode-notebook-cell://attached-container%2B7b22636f6e7461696e65724e616d65223a222f6d795f6f70656e6d63227d/root/ProjectFiles/ParticleSim/gamma_ray_model.ipynb#W1sdnNjb2RlLXJlbW90ZQ%3D%3D?line=4'>5</a>\u001b[0m oxygen \u001b[39m=\u001b[39m openmc\u001b[39m.\u001b[39mMaterial(name \u001b[39m=\u001b[39m \u001b[39m\"\u001b[39m\u001b[39mOxygen\u001b[39m\u001b[39m\"\u001b[39m)\n",
      "File \u001b[0;32m/usr/local/lib/python3.9/dist-packages/openmc/material.py:744\u001b[0m, in \u001b[0;36mMaterial.add_element\u001b[0;34m(self, element, percent, percent_type, enrichment, enrichment_target, enrichment_type)\u001b[0m\n\u001b[1;32m    742\u001b[0m \u001b[39m# Add naturally-occuring isotopes\u001b[39;00m\n\u001b[1;32m    743\u001b[0m element \u001b[39m=\u001b[39m openmc\u001b[39m.\u001b[39mElement(element)\n\u001b[0;32m--> 744\u001b[0m \u001b[39mfor\u001b[39;00m nuclide \u001b[39min\u001b[39;00m element\u001b[39m.\u001b[39;49mexpand(percent,\n\u001b[1;32m    745\u001b[0m                               percent_type,\n\u001b[1;32m    746\u001b[0m                               enrichment,\n\u001b[1;32m    747\u001b[0m                               enrichment_target,\n\u001b[1;32m    748\u001b[0m                               enrichment_type):\n\u001b[1;32m    749\u001b[0m     \u001b[39mself\u001b[39m\u001b[39m.\u001b[39madd_nuclide(\u001b[39m*\u001b[39mnuclide)\n",
      "File \u001b[0;32m/usr/local/lib/python3.9/dist-packages/openmc/element.py:138\u001b[0m, in \u001b[0;36mElement.expand\u001b[0;34m(self, percent, percent_type, enrichment, enrichment_target, enrichment_type, cross_sections)\u001b[0m\n\u001b[1;32m    136\u001b[0m \u001b[39mif\u001b[39;00m cross_sections \u001b[39mis\u001b[39;00m \u001b[39mnot\u001b[39;00m \u001b[39mNone\u001b[39;00m:\n\u001b[1;32m    137\u001b[0m     library_nuclides \u001b[39m=\u001b[39m \u001b[39mset\u001b[39m()\n\u001b[0;32m--> 138\u001b[0m     tree \u001b[39m=\u001b[39m ET\u001b[39m.\u001b[39;49mparse(cross_sections)\n\u001b[1;32m    139\u001b[0m     root \u001b[39m=\u001b[39m tree\u001b[39m.\u001b[39mgetroot()\n\u001b[1;32m    140\u001b[0m     \u001b[39mfor\u001b[39;00m child \u001b[39min\u001b[39;00m root\u001b[39m.\u001b[39mfindall(\u001b[39m'\u001b[39m\u001b[39mlibrary\u001b[39m\u001b[39m'\u001b[39m):\n",
      "File \u001b[0;32m/usr/lib/python3.9/xml/etree/ElementTree.py:1229\u001b[0m, in \u001b[0;36mparse\u001b[0;34m(source, parser)\u001b[0m\n\u001b[1;32m   1220\u001b[0m \u001b[39m\u001b[39m\u001b[39m\"\"\"Parse XML document into element tree.\u001b[39;00m\n\u001b[1;32m   1221\u001b[0m \n\u001b[1;32m   1222\u001b[0m \u001b[39m*source* is a filename or file object containing XML data,\u001b[39;00m\n\u001b[0;32m   (...)\u001b[0m\n\u001b[1;32m   1226\u001b[0m \n\u001b[1;32m   1227\u001b[0m \u001b[39m\"\"\"\u001b[39;00m\n\u001b[1;32m   1228\u001b[0m tree \u001b[39m=\u001b[39m ElementTree()\n\u001b[0;32m-> 1229\u001b[0m tree\u001b[39m.\u001b[39;49mparse(source, parser)\n\u001b[1;32m   1230\u001b[0m \u001b[39mreturn\u001b[39;00m tree\n",
      "File \u001b[0;32m/usr/lib/python3.9/xml/etree/ElementTree.py:569\u001b[0m, in \u001b[0;36mElementTree.parse\u001b[0;34m(self, source, parser)\u001b[0m\n\u001b[1;32m    567\u001b[0m close_source \u001b[39m=\u001b[39m \u001b[39mFalse\u001b[39;00m\n\u001b[1;32m    568\u001b[0m \u001b[39mif\u001b[39;00m \u001b[39mnot\u001b[39;00m \u001b[39mhasattr\u001b[39m(source, \u001b[39m\"\u001b[39m\u001b[39mread\u001b[39m\u001b[39m\"\u001b[39m):\n\u001b[0;32m--> 569\u001b[0m     source \u001b[39m=\u001b[39m \u001b[39mopen\u001b[39;49m(source, \u001b[39m\"\u001b[39;49m\u001b[39mrb\u001b[39;49m\u001b[39m\"\u001b[39;49m)\n\u001b[1;32m    570\u001b[0m     close_source \u001b[39m=\u001b[39m \u001b[39mTrue\u001b[39;00m\n\u001b[1;32m    571\u001b[0m \u001b[39mtry\u001b[39;00m:\n",
      "\u001b[0;31mFileNotFoundError\u001b[0m: [Errno 2] No such file or directory: '/root/endfb-vii.1-hdf5/cross_sections.xml'"
     ]
    }
   ],
   "source": [
    "gas = openmc.Material(name=\"Gas\")\n",
    "gas.add_element(\"Argon\", 1)\n",
    "gas.set_density(\"g/cm3\", 1)\n",
    "\n",
    "oxygen = openmc.Material(name = \"Oxygen\")\n",
    "oxygen.add_element(\"oxygen\", 1)\n",
    "oxygen.set_density(\"g/cm3\", 1)\n",
    "\n",
    "mats = openmc.Materials([gas,oxygen])\n",
    "mats.export_to_xml(str(Constants.materials_xml_path))"
   ]
  },
  {
   "cell_type": "code",
   "execution_count": null,
   "metadata": {},
   "outputs": [
    {
     "name": "stderr",
     "output_type": "stream",
     "text": [
      "/usr/local/lib/python3.9/dist-packages/openmc/mixin.py:70: IDWarning: Another Cell instance already exists with id=10.\n",
      "  warn(msg, IDWarning)\n",
      "/usr/local/lib/python3.9/dist-packages/openmc/mixin.py:70: IDWarning: Another Cell instance already exists with id=20.\n",
      "  warn(msg, IDWarning)\n",
      "/usr/local/lib/python3.9/dist-packages/openmc/mixin.py:70: IDWarning: Another Cell instance already exists with id=30.\n",
      "  warn(msg, IDWarning)\n",
      "/usr/local/lib/python3.9/dist-packages/openmc/mixin.py:70: IDWarning: Another Cell instance already exists with id=40.\n",
      "  warn(msg, IDWarning)\n"
     ]
    },
    {
     "data": {
      "text/plain": [
       "<matplotlib.image.AxesImage at 0x7f3470d80820>"
      ]
     },
     "execution_count": 8,
     "metadata": {},
     "output_type": "execute_result"
    },
    {
     "data": {
      "image/png": "[encoded data removed]",
      "text/plain": [
       "<Figure size 258.065x259.74 with 1 Axes>"
      ]
     },
     "metadata": {},
     "output_type": "display_data"
    }
   ],
   "source": [
    "allCells = []\n",
    "\n",
    "bot_pose = {\"x\":0,\"y\":0}\n",
    "bot_size = {\"Length\":3,\"Width\":3}\n",
    "geiger_tube_radius = 2\n",
    "\n",
    "cyl_1 = openmc.XCylinder(y0=bot_pose[\"y\"]-(bot_size[\"Width\"]+geiger_tube_radius*2)/2,z0=0,r = geiger_tube_radius,boundary_type = \"transmission\")\n",
    "cyl_2 = openmc.YCylinder(x0=bot_pose[\"x\"]-(bot_size[\"Length\"]+geiger_tube_radius*2)/2,z0=0,r = geiger_tube_radius,boundary_type = \"transmission\")\n",
    "cyl_3 = openmc.XCylinder(y0=bot_pose[\"y\"]+(bot_size[\"Width\"]+geiger_tube_radius*2)/2,z0=0,r = geiger_tube_radius,boundary_type = \"transmission\")\n",
    "cyl_4 = openmc.YCylinder(x0=bot_pose[\"x\"]+(bot_size[\"Length\"]+geiger_tube_radius*2)/2,z0=0,r = geiger_tube_radius,boundary_type = \"transmission\")        \n",
    "\n",
    "plane_1 = openmc.XPlane(x0 = bot_pose[\"x\"]-(bot_size[\"Length\"])/2)\n",
    "plane_2 = openmc.XPlane(x0 = bot_pose[\"x\"]+(bot_size[\"Length\"])/2)\n",
    "plane_3 = openmc.YPlane(y0 = bot_pose[\"y\"]-(bot_size[\"Width\"])/2)\n",
    "plane_4 = openmc.YPlane(y0 = bot_pose[\"y\"]+(bot_size[\"Width\"])/2)\n",
    "\n",
    "ray_blocker_1 = openmc.rectangular_prism(axis = \"z\", width = bot_size[\"Length\"], height = 1, origin = (bot_pose[\"x\"],bot_pose[\"y\"]-bot_size[\"Width\"]/2),boundary_type=\"vacuum\")\n",
    "ray_blocker_2 = openmc.rectangular_prism(axis = \"z\", width = 1, height = bot_size[\"Width\"], origin = (bot_pose[\"x\"]-bot_size[\"Length\"]/2,bot_pose[\"y\"]),boundary_type=\"vacuum\")\n",
    "ray_blocker_3 = openmc.rectangular_prism(axis = \"z\", width = bot_size[\"Length\"], height = 1, origin = (bot_pose[\"x\"],bot_pose[\"y\"]+bot_size[\"Width\"]/2),boundary_type=\"vacuum\")\n",
    "ray_blocker_4 = openmc.rectangular_prism(axis = \"z\", width = 1, height = bot_size[\"Width\"], origin = (bot_pose[\"x\"]+bot_size[\"Length\"]/2,bot_pose[\"y\"]),boundary_type=\"vacuum\")\n",
    "\n",
    "cell_1 = openmc.Cell(cell_id = 10)\n",
    "cell_1.region = -cyl_1 & +plane_1 & -plane_2\n",
    "cell_1.fill = gas\n",
    "\n",
    "cell_2 = openmc.Cell(cell_id = 20)\n",
    "cell_2.region = -cyl_2 & +plane_3 & -plane_4\n",
    "cell_2.fill = gas\n",
    "\n",
    "cell_3 = openmc.Cell(cell_id = 30)\n",
    "cell_3.region = -cyl_3 & +plane_1 & -plane_2\n",
    "cell_3.fill = gas\n",
    "\n",
    "cell_4 = openmc.Cell(cell_id = 40)\n",
    "cell_4.region = -cyl_4 & +plane_3 & -plane_4\n",
    "cell_4.fill = gas\n",
    "\n",
    "allCells.append(cell_1)\n",
    "allCells.append(cell_2)\n",
    "allCells.append(cell_3)\n",
    "allCells.append(cell_4)\n",
    "\n",
    "blocker_cell_1 = openmc.Cell(region=ray_blocker_1)\n",
    "blocker_cell_2 = openmc.Cell(region=ray_blocker_2)\n",
    "blocker_cell_3 = openmc.Cell(region=ray_blocker_3)\n",
    "blocker_cell_4 = openmc.Cell(region=ray_blocker_4)\n",
    "\n",
    "outer_surface = openmc.Sphere(r=150.0)\n",
    "outer_surface.boundary_type = 'vacuum'\n",
    "\n",
    "inner_surface = openmc.Sphere(r=140.0)\n",
    "inner_surface.boundary_type = 'vacuum'\n",
    "\n",
    "empty_space = openmc.Cell()\n",
    "empty_space.region = -inner_surface & ~(-cyl_1 & +plane_1 & -plane_2) & ~(-cyl_2 & +plane_3 & -plane_4) & ~(-cyl_3 & +plane_1 & -plane_2) & ~(-cyl_4 & +plane_3 & -plane_4)\n",
    "empty_space.fill = oxygen\n",
    "\n",
    "universe = openmc.Universe(cells=[cell_1,cell_2, cell_3, cell_4,\n",
    "                                        empty_space,\n",
    "                                        blocker_cell_1,blocker_cell_2,blocker_cell_3,blocker_cell_4])\n",
    "geometry = openmc.Geometry(universe)\n",
    "geometry.export_to_xml(str(Constants.geometry_xml_path))\n",
    "universe.plot(width=(30.0, 30.0), origin=(0.0, 0.0, 0.0), basis='xy', color_by='material')"
   ]
  },
  {
   "cell_type": "code",
   "execution_count": null,
   "metadata": {},
   "outputs": [],
   "source": [
    "openmc.config['chain_file'] = \"/root/openmc-notebooks/load.xml\"\n",
    "\n",
    "half_life_Cs137_seconds = 30.17 * 365 * 24 * 60 * 60\n",
    "# half_life_Ba137_m1_seconds = 2.55 * 60\n",
    "half_life_Ba137_m1_seconds = 2.55\n",
    "Rn222_t0 = rd.Inventory({'Rn-222':2.0},'Bq')\n",
    "Rn222_t1 = Rn222_t0.decay(20.0,'h')\n",
    "\n",
    "branching_ratio = 0.946\n",
    "fraction_atoms_Ba137_m1 = (half_life_Ba137_m1_seconds * branching_ratio) / half_life_Cs137_seconds\n",
    "\n",
    "number_atoms_Ba137_m1 = (1/10) * Avogadro * fraction_atoms_Ba137_m1\n",
    "number_atoms_Cs137 = (1/137) * Avogadro * (1-fraction_atoms_Ba137_m1)\n",
    "radon_source = openmc.Source()\n",
    "radon_source.space = openmc.stats.Point((-1.0, 0.0, 0.0))\n",
    "radon_source.angle = openmc.stats.Isotropic()\n",
    "radon_source.energy = openmc.data.decay_photon_energy(\"Rn222\")\n",
    "radon_source.particle = 'photon'\n",
    "radon_source.strength = 1000000000000000\n"
   ]
  },
  {
   "cell_type": "code",
   "execution_count": null,
   "metadata": {},
   "outputs": [],
   "source": [
    "settings = openmc.Settings()\n",
    "settings.particles = 10**4\n",
    "settings.batches = 20\n",
    "settings.photon_transport = True\n",
    "settings.source = [radon_source]\n",
    "settings.run_mode = 'fixed source'\n",
    "settings.export_to_xml()"
   ]
  },
  {
   "cell_type": "code",
   "execution_count": null,
   "metadata": {},
   "outputs": [],
   "source": [
    "tallies = openmc.Tallies()\n",
    "\n",
    "energy_bins = np.linspace(0, 1e6, 1001)\n",
    "energy_filter = openmc.EnergyFilter(energy_bins)\n",
    "cell_filter = openmc.CellFilter(gass_cell)\n",
    "particle_filter = openmc.ParticleFilter(\"photon\")\n",
    "\n",
    "pulse_tally = openmc.Tally(name='pulse-height')\n",
    "pulse_tally.filters = [cell_filter, energy_filter]\n",
    "pulse_tally.scores = ['pulse-height']\n",
    "\n",
    "absorption_tally = openmc.Tally(name=\"gamma_absorption\")\n",
    "absorption_tally.filters = [cell_filter,particle_filter]\n",
    "absorption_tally.scores = [\"absorption\"]\n",
    "\n",
    "tallies.append(pulse_tally)\n",
    "tallies.append(absorption_tally)\n",
    "tallies.export_to_xml()"
   ]
  },
  {
   "cell_type": "code",
   "execution_count": null,
   "metadata": {},
   "outputs": [
    {
     "name": "stdout",
     "output_type": "stream",
     "text": [
      "                                %%%%%%%%%%%%%%%\n",
      "                           %%%%%%%%%%%%%%%%%%%%%%%%\n",
      "                        %%%%%%%%%%%%%%%%%%%%%%%%%%%%%%\n",
      "                      %%%%%%%%%%%%%%%%%%%%%%%%%%%%%%%%%%\n",
      "                    %%%%%%%%%%%%%%%%%%%%%%%%%%%%%%%%%%%%%%\n",
      "                   %%%%%%%%%%%%%%%%%%%%%%%%%%%%%%%%%%%%%%%%\n",
      "                                    %%%%%%%%%%%%%%%%%%%%%%%%\n",
      "                                     %%%%%%%%%%%%%%%%%%%%%%%%\n",
      "                 ###############      %%%%%%%%%%%%%%%%%%%%%%%%\n",
      "                ##################     %%%%%%%%%%%%%%%%%%%%%%%\n",
      "                ###################     %%%%%%%%%%%%%%%%%%%%%%%\n",
      "                ####################     %%%%%%%%%%%%%%%%%%%%%%\n",
      "                #####################     %%%%%%%%%%%%%%%%%%%%%\n",
      "                ######################     %%%%%%%%%%%%%%%%%%%%\n",
      "                #######################     %%%%%%%%%%%%%%%%%%\n",
      "                 #######################     %%%%%%%%%%%%%%%%%\n",
      "                 ######################     %%%%%%%%%%%%%%%%%\n",
      "                  ####################     %%%%%%%%%%%%%%%%%\n",
      "                    #################     %%%%%%%%%%%%%%%%%\n",
      "                     ###############     %%%%%%%%%%%%%%%%\n",
      "                       ############     %%%%%%%%%%%%%%%\n",
      "                          ########     %%%%%%%%%%%%%%\n",
      "                                      %%%%%%%%%%%\n",
      "\n",
      "                 | The OpenMC Monte Carlo Code\n",
      "       Copyright | 2011-2023 MIT, UChicago Argonne LLC, and contributors\n",
      "         License | https://docs.openmc.org/en/latest/license.html\n",
      "         Version | 0.13.4-dev\n",
      "        Git SHA1 | cd13d3471da30213bf68b91739994b73bb07cb90\n",
      "       Date/Time | 2023-09-01 23:19:51\n",
      "  OpenMP Threads | 20\n",
      "\n",
      " Reading settings XML file...\n",
      " Reading cross sections XML file...\n",
      " Reading materials XML file...\n",
      " Reading geometry XML file...\n",
      " Reading Na23 from /root/endfb-vii.1-hdf5/neutron/Na23.h5\n",
      " Reading Na from /root/endfb-vii.1-hdf5/photon/Na.h5 \n",
      " Reading I127 from /root/endfb-vii.1-hdf5/neutron/I127.h5\n",
      " Reading I from /root/endfb-vii.1-hdf5/photon/I.h5 \n",
      " Reading Ar36 from /root/endfb-vii.1-hdf5/neutron/Ar36.h5\n",
      " WARNING: Negative value(s) found on probability table for nuclide Ar36 at 294K\n",
      " Reading Ar from /root/endfb-vii.1-hdf5/photon/Ar.h5 \n",
      " Reading Ar38 from /root/endfb-vii.1-hdf5/neutron/Ar38.h5\n",
      " Reading Ar40 from /root/endfb-vii.1-hdf5/neutron/Ar40.h5\n",
      " Reading O16 from /root/endfb-vii.1-hdf5/neutron/O16.h5\n",
      " Reading O from /root/endfb-vii.1-hdf5/photon/O.h5 \n",
      " Reading O17 from /root/endfb-vii.1-hdf5/neutron/O17.h5\n",
      " Reading Al27 from /root/endfb-vii.1-hdf5/neutron/Al27.h5\n",
      " Reading Al from /root/endfb-vii.1-hdf5/photon/Al.h5 \n",
      " Minimum neutron data temperature: 250 K\n",
      " Maximum neutron data temperature: 2500 K\n",
      " Reading tallies XML file...\n",
      " Preparing distributed cell instances...\n",
      " Reading plot XML file...\n",
      " Writing summary.h5 file...\n",
      " Maximum neutron transport energy: 20000000 eV for Na23\n",
      "\n",
      " ===============>     FIXED SOURCE TRANSPORT SIMULATION     <===============\n",
      "\n",
      " Simulating batch 1\n",
      " Simulating batch 2\n",
      " Simulating batch 3\n",
      " Simulating batch 4\n",
      " Simulating batch 5\n",
      " Simulating batch 6\n",
      " Simulating batch 7\n",
      " Simulating batch 8\n",
      " Simulating batch 9\n",
      " Simulating batch 10\n",
      " Simulating batch 11\n",
      " Simulating batch 12\n",
      " Simulating batch 13\n",
      " Simulating batch 14\n",
      " Simulating batch 15\n",
      " Simulating batch 16\n",
      " Simulating batch 17\n",
      " Simulating batch 18\n",
      " Simulating batch 19\n",
      " Simulating batch 20\n",
      " Creating state point statepoint.20.h5...\n",
      "\n",
      " =======================>     TIMING STATISTICS     <=======================\n",
      "\n",
      " Total time for initialization     = 1.9825e+00 seconds\n",
      "   Reading cross sections          = 1.9361e+00 seconds\n",
      " Total time in simulation          = 3.1265e+00 seconds\n",
      "   Time in transport only          = 3.0356e+00 seconds\n",
      "   Time in active batches          = 3.1265e+00 seconds\n",
      "   Time accumulating tallies       = 7.1201e-02 seconds\n",
      "   Time writing statepoints        = 1.3971e-02 seconds\n",
      " Total time for finalization       = 6.1390e-03 seconds\n",
      " Total time elapsed                = 5.1218e+00 seconds\n",
      " Calculation Rate (active)         = 63969.6 particles/second\n",
      "\n",
      " ============================>     RESULTS     <============================\n",
      "\n",
      " Leakage Fraction            = 0.59733 +/- 0.00147\n",
      "\n"
     ]
    }
   ],
   "source": [
    "# with openmc.StatePoint('summary.h5') as sp:\n",
    "#     k_eff = sp.keff\n",
    "openmc.run(\"/home/cpf/Desktop/openmc/build/bin/openmc\")"
   ]
  },
  {
   "cell_type": "code",
   "execution_count": null,
   "metadata": {},
   "outputs": [],
   "source": [
    "sp = openmc.StatePoint('statepoint.20.h5')\n",
    "tally = sp.get_tally(name='pulse-height')\n",
    "pulse_height_values = tally.get_values(scores=['pulse-height']).flatten()"
   ]
  },
  {
   "cell_type": "code",
   "execution_count": null,
   "metadata": {},
   "outputs": [
    {
     "data": {
      "image/png": "[encoded data removed]",
      "text/plain": [
       "<Figure size 640x480 with 1 Axes>"
      ]
     },
     "metadata": {},
     "output_type": "display_data"
    }
   ],
   "source": [
    "energy_bin_centers = energy_bins[1:] + 0.5 * (energy_bins[1] - energy_bins[0])\n",
    "\n",
    "plt.figure()\n",
    "plt.semilogy(energy_bin_centers, pulse_height_values)\n",
    "\n",
    "# plot the strongest sources as vertical lines\n",
    "# plt.axvline(x=800_000, color=\"red\", ls=\":\")     # source_1\n",
    "# plt.axvline(x=661_700, color=\"red\", ls=\":\")     # source_2\n",
    "\n",
    "plt.xlabel('Energy [eV]')\n",
    "plt.ylabel('Counts')\n",
    "plt.title('Pulse Height Values')\n",
    "plt.grid(True)\n",
    "plt.tight_layout()\n",
    "plt.savefig(\"PH_2\")"
   ]
  }
 ],
 "metadata": {
  "kernelspec": {
   "display_name": "Python 3",
   "language": "python",
   "name": "python3"
  },
  "language_info": {
   "codemirror_mode": {
    "name": "ipython",
    "version": 3
   },
   "file_extension": ".py",
   "mimetype": "text/x-python",
   "name": "python",
   "nbconvert_exporter": "python",
   "pygments_lexer": "ipython3",
   "version": "3.9.2"
  },
  "orig_nbformat": 4,
  "vscode": {
   "interpreter": {
    "hash": "767d51c1340bd893661ea55ea3124f6de3c7a262a8b4abca0554b478b1e2ff90"
   }
  }
 },
 "nbformat": 4,
 "nbformat_minor": 2
}
